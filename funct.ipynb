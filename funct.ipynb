{
  "nbformat": 4,
  "nbformat_minor": 0,
  "metadata": {
    "colab": {
      "provenance": []
    },
    "kernelspec": {
      "name": "python3",
      "display_name": "Python 3"
    },
    "language_info": {
      "name": "python"
    }
  },
  "cells": [
    {
      "cell_type": "code",
      "execution_count": 3,
      "metadata": {
        "colab": {
          "base_uri": "https://localhost:8080/"
        },
        "id": "z7vd4cMV2ta8",
        "outputId": "cf9f2ee4-97ba-4793-e1be-ec795bfdd3d0"
      },
      "outputs": [
        {
          "output_type": "stream",
          "name": "stdout",
          "text": [
            "10\n"
          ]
        }
      ],
      "source": [
        "double = lambda x: x*2\n",
        "print(double(5))"
      ]
    },
    {
      "cell_type": "code",
      "source": [
        "def double(x):\n",
        "  return x*2\n",
        "\n",
        "print(double(5))\n"
      ],
      "metadata": {
        "colab": {
          "base_uri": "https://localhost:8080/"
        },
        "id": "a2uV-o6128u9",
        "outputId": "29e3db21-e0c6-41e3-c24a-1adfed23bb44"
      },
      "execution_count": 2,
      "outputs": [
        {
          "output_type": "stream",
          "name": "stdout",
          "text": [
            "10\n"
          ]
        }
      ]
    },
    {
      "cell_type": "code",
      "source": [
        "# example use with filter()\n",
        "lst = [1,2,3,4,5]\n",
        "even_lst= list(filter(lambda x: (x%2 == 0), lst))\n",
        "print(even_lst)\n"
      ],
      "metadata": {
        "colab": {
          "base_uri": "https://localhost:8080/"
        },
        "id": "mzH2ZgTV3TNI",
        "outputId": "3888d34a-df65-47ca-ff5c-fdcbdae6b0d5"
      },
      "execution_count": 4,
      "outputs": [
        {
          "output_type": "stream",
          "name": "stdout",
          "text": [
            "[2, 4]\n"
          ]
        }
      ]
    },
    {
      "cell_type": "code",
      "source": [
        "# example use with map()\n",
        "llst = [1,2,3,4,5]\n",
        "new_lst = list(map(lambda x: x**2, lst))\n",
        "print(new_lst)"
      ],
      "metadata": {
        "colab": {
          "base_uri": "https://localhost:8080/"
        },
        "id": "Xe9xOrig5elT",
        "outputId": "89831e48-1578-4c2f-f149-6870a4afaf3e"
      },
      "execution_count": 5,
      "outputs": [
        {
          "output_type": "stream",
          "name": "stdout",
          "text": [
            "[1, 4, 9, 16, 25]\n"
          ]
        }
      ]
    },
    {
      "cell_type": "code",
      "source": [
        "# example use with reduce()\n",
        "from functools import reduce\n",
        "lst = [1,2,3,4,5]\n",
        "product_lst = reduce(lambda x, y: x*y, lst)\n",
        "print(product_lst)"
      ],
      "metadata": {
        "colab": {
          "base_uri": "https://localhost:8080/"
        },
        "id": "-j3orV3b56gD",
        "outputId": "0972dac5-9068-44ed-821f-1b6397259410"
      },
      "execution_count": 1,
      "outputs": [
        {
          "output_type": "stream",
          "name": "stdout",
          "text": [
            "120\n"
          ]
        }
      ]
    },
    {
      "cell_type": "code",
      "source": [],
      "metadata": {
        "id": "YsYjB972xCRy"
      },
      "execution_count": null,
      "outputs": []
    }
  ]
}