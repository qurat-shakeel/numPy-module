{
  "nbformat": 4,
  "nbformat_minor": 0,
  "metadata": {
    "colab": {
      "provenance": []
    },
    "kernelspec": {
      "name": "python3",
      "display_name": "Python 3"
    },
    "language_info": {
      "name": "python"
    }
  },
  "cells": [
    {
      "cell_type": "code",
      "execution_count": 7,
      "metadata": {
        "colab": {
          "base_uri": "https://localhost:8080/"
        },
        "id": "jp_gB2vmOzHS",
        "outputId": "2fa27fec-e00f-4e80-c206-6762d72053f0"
      },
      "outputs": [
        {
          "output_type": "stream",
          "name": "stdout",
          "text": [
            "120\n"
          ]
        }
      ],
      "source": [
        "# factorial\n",
        "def factorial (num):\n",
        "  return 1 if num == 1 else (num * factorial(num-1))\n",
        "num=5\n",
        "print (factorial(num))\n"
      ]
    },
    {
      "cell_type": "code",
      "source": [
        "# fibonacci\n",
        "def fibonacci(num):\n",
        "   return num if num<=1 else fibonacci(num-1)+ fibonacci (num-2)\n",
        "nterms = 10\n",
        "print (\"fibonacci sequence\")\n",
        "for num in range(nterms):\n",
        "  print(fibonacci(num))"
      ],
      "metadata": {
        "colab": {
          "base_uri": "https://localhost:8080/"
        },
        "id": "-mM9aFtiQQqe",
        "outputId": "1041502f-de73-4ad6-b7d0-85474f594bed"
      },
      "execution_count": 14,
      "outputs": [
        {
          "output_type": "stream",
          "name": "stdout",
          "text": [
            "fibonacci sequence\n",
            "0\n",
            "1\n",
            "1\n",
            "2\n",
            "3\n",
            "5\n",
            "8\n",
            "13\n",
            "21\n",
            "34\n"
          ]
        }
      ]
    },
    {
      "cell_type": "code",
      "source": [],
      "metadata": {
        "id": "cfGqi-F1P9oR"
      },
      "execution_count": null,
      "outputs": []
    }
  ]
}