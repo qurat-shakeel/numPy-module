{
  "nbformat": 4,
  "nbformat_minor": 0,
  "metadata": {
    "colab": {
      "provenance": []
    },
    "kernelspec": {
      "name": "python3",
      "display_name": "Python 3"
    },
    "language_info": {
      "name": "python"
    }
  },
  "cells": [
    {
      "cell_type": "code",
      "execution_count": 1,
      "metadata": {
        "colab": {
          "base_uri": "https://localhost:8080/"
        },
        "id": "YJ5c7wVZIG4Y",
        "outputId": "6a9e52a2-4614-428f-e604-e5e87bdf51ec"
      },
      "outputs": [
        {
          "output_type": "stream",
          "name": "stdout",
          "text": [
            "1\n",
            "2\n",
            "3\n",
            "Outside of for loop\n"
          ]
        }
      ],
      "source": [
        "numbers = [1,2,3,4]\n",
        "for num in numbers:\n",
        "  if num ==4:\n",
        "    break\n",
        "  print(num)\n",
        "else:\n",
        "  print(\"in the else block\")\n",
        "print(\"Outside of for loop\")\n"
      ]
    },
    {
      "cell_type": "markdown",
      "source": [],
      "metadata": {
        "id": "PPxKpNxVJfV5"
      }
    },
    {
      "cell_type": "code",
      "source": [
        "# to check whether a number is prime or not\n",
        "num = int(input(\" Enter a number:\"))\n",
        "\n",
        "isDivisible = False\n",
        "\n",
        "i=2\n",
        "while i<num:\n",
        "  if num%i==0:\n",
        "    isDivisible = True\n",
        "    print(\"{} is divisible by {}\".format(num,i))\n",
        "    break\n",
        "  i +=1\n",
        "if isDivisible:\n",
        "  print(\"{} is not a prime number\". format(num))\n",
        "else:\n",
        "  print(\"{} is a prime number\". format(num))"
      ],
      "metadata": {
        "colab": {
          "base_uri": "https://localhost:8080/"
        },
        "id": "tiog2yIvI8_X",
        "outputId": "43bc7193-6be1-4413-8b77-8dc5a6dafbdd"
      },
      "execution_count": 4,
      "outputs": [
        {
          "output_type": "stream",
          "name": "stdout",
          "text": [
            " Enter a number:18\n",
            "18 is divisible by 2\n",
            "18 is not a prime number\n"
          ]
        }
      ]
    },
    {
      "cell_type": "code",
      "source": [
        "# print odd numbers present in a list\n",
        "numbers= [1,2,3,4,5,6,7]\n",
        "for num in numbers:\n",
        "  if num%2==0:\n",
        "    continue\n",
        "  print(num)\n",
        "else:\n",
        "  print(\"else block\")"
      ],
      "metadata": {
        "colab": {
          "base_uri": "https://localhost:8080/"
        },
        "id": "2icMBqTyLB2G",
        "outputId": "6d75231d-8e7d-4838-bad3-a3d11fdeb17d"
      },
      "execution_count": 5,
      "outputs": [
        {
          "output_type": "stream",
          "name": "stdout",
          "text": [
            "1\n",
            "3\n",
            "5\n",
            "7\n",
            "else block\n"
          ]
        }
      ]
    },
    {
      "cell_type": "code",
      "source": [
        "# tuple\n",
        "t = ()\n",
        "\n"
      ],
      "metadata": {
        "id": "dpapO83VLk9k"
      },
      "execution_count": 6,
      "outputs": []
    },
    {
      "cell_type": "code",
      "source": [
        "t=(1,2,3)\n",
        "print(t)"
      ],
      "metadata": {
        "colab": {
          "base_uri": "https://localhost:8080/"
        },
        "id": "8NIwMdUlL-Fx",
        "outputId": "0bcd1b78-d304-46ab-f196-d1b2b22aa793"
      },
      "execution_count": 8,
      "outputs": [
        {
          "output_type": "stream",
          "name": "stdout",
          "text": [
            "(1, 2, 3)\n"
          ]
        }
      ]
    },
    {
      "cell_type": "code",
      "source": [
        "# tuple with mixed datatype\n",
        "t=(1,'raju',28,'abc')\n",
        "print(t)"
      ],
      "metadata": {
        "colab": {
          "base_uri": "https://localhost:8080/"
        },
        "id": "OAAEKbvoMDVQ",
        "outputId": "f4df8c8b-67b8-4239-d30b-32c3a35559fe"
      },
      "execution_count": 10,
      "outputs": [
        {
          "output_type": "stream",
          "name": "stdout",
          "text": [
            "(1, 'raju', 28, 'abc')\n"
          ]
        }
      ]
    },
    {
      "cell_type": "code",
      "source": [
        "# nested tuple\n",
        "t=(1,(2,3,4),[1,'raju',28,'abc'])\n",
        "print(t)"
      ],
      "metadata": {
        "colab": {
          "base_uri": "https://localhost:8080/"
        },
        "id": "wBkrJ8e5MSaU",
        "outputId": "bfb9ef43-2b20-441d-ff0d-0a883353f4b2"
      },
      "execution_count": 12,
      "outputs": [
        {
          "output_type": "stream",
          "name": "stdout",
          "text": [
            "(1, (2, 3, 4), [1, 'raju', 28, 'abc'])\n"
          ]
        }
      ]
    },
    {
      "cell_type": "code",
      "source": [
        "# only parenthesis is not enough\n",
        "t = ('satish')\n",
        "type(t)"
      ],
      "metadata": {
        "colab": {
          "base_uri": "https://localhost:8080/"
        },
        "id": "nnnasFyxM_il",
        "outputId": "2b653148-8210-4ffd-80f0-7c6636ce4a37"
      },
      "execution_count": 13,
      "outputs": [
        {
          "output_type": "execute_result",
          "data": {
            "text/plain": [
              "str"
            ]
          },
          "metadata": {},
          "execution_count": 13
        }
      ]
    },
    {
      "cell_type": "code",
      "source": [
        "# need a comma at the end\n",
        "t = ('satish',)\n",
        "type(t)"
      ],
      "metadata": {
        "colab": {
          "base_uri": "https://localhost:8080/"
        },
        "id": "3RbusxjbNJep",
        "outputId": "afc85bbe-8883-48af-d155-37472ad90d33"
      },
      "execution_count": 14,
      "outputs": [
        {
          "output_type": "execute_result",
          "data": {
            "text/plain": [
              "tuple"
            ]
          },
          "metadata": {},
          "execution_count": 14
        }
      ]
    },
    {
      "cell_type": "code",
      "source": [
        "# parenthesis is optional\n",
        "t = 'satish',\n",
        "print(type(t))"
      ],
      "metadata": {
        "colab": {
          "base_uri": "https://localhost:8080/"
        },
        "id": "3I6K8ia0NSPK",
        "outputId": "1dd3cb39-8268-4a8d-c31a-98fcde7b3afb"
      },
      "execution_count": 15,
      "outputs": [
        {
          "output_type": "stream",
          "name": "stdout",
          "text": [
            "<class 'tuple'>\n"
          ]
        }
      ]
    },
    {
      "cell_type": "code",
      "source": [
        "# accessing elements in a tuple\n",
        "t = ('satish','murali','naveen','brahma')\n",
        "print(t[1])"
      ],
      "metadata": {
        "colab": {
          "base_uri": "https://localhost:8080/"
        },
        "id": "YChzMNyCNvtJ",
        "outputId": "ce7dc6d3-f98f-4c58-a5d2-f1319e8a2d1f"
      },
      "execution_count": 16,
      "outputs": [
        {
          "output_type": "stream",
          "name": "stdout",
          "text": [
            "murali\n"
          ]
        }
      ]
    },
    {
      "cell_type": "code",
      "source": [
        "# negative index\n",
        "print(t[-1])"
      ],
      "metadata": {
        "colab": {
          "base_uri": "https://localhost:8080/"
        },
        "id": "ZDnXWYHFOCVH",
        "outputId": "039e17a0-3c7a-4358-95cd-16c4a37b53c5"
      },
      "execution_count": 17,
      "outputs": [
        {
          "output_type": "stream",
          "name": "stdout",
          "text": [
            "brahma\n"
          ]
        }
      ]
    },
    {
      "cell_type": "code",
      "source": [],
      "metadata": {
        "id": "71S5cGmnSEAO"
      },
      "execution_count": null,
      "outputs": []
    }
  ]
}