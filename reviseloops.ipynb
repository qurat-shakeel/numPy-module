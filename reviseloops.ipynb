{
  "nbformat": 4,
  "nbformat_minor": 0,
  "metadata": {
    "colab": {
      "provenance": []
    },
    "kernelspec": {
      "name": "python3",
      "display_name": "Python 3"
    },
    "language_info": {
      "name": "python"
    }
  },
  "cells": [
    {
      "cell_type": "code",
      "execution_count": 1,
      "metadata": {
        "colab": {
          "base_uri": "https://localhost:8080/"
        },
        "id": "yFK4r5gzYdMH",
        "outputId": "db69643d-b89d-4c00-8128-8358464984ac"
      },
      "outputs": [
        {
          "output_type": "stream",
          "name": "stdout",
          "text": [
            "product is : 12000000\n"
          ]
        }
      ],
      "source": [
        "# find product of all numbers in a list\n",
        "lst = [10,20,30,40,50]\n",
        "product = 1\n",
        "# iterating over a list\n",
        "for ele in lst:\n",
        "  product *= ele\n",
        "\n",
        "print(\"product is : {}\". format(product))"
      ]
    },
    {
      "cell_type": "code",
      "source": [
        "# range function\n",
        "for i in range(10):\n",
        "  print(i)"
      ],
      "metadata": {
        "colab": {
          "base_uri": "https://localhost:8080/"
        },
        "id": "DQo6c7jQZMVw",
        "outputId": "c526a1bc-cbbe-4ca6-b71b-02969e408790"
      },
      "execution_count": 2,
      "outputs": [
        {
          "output_type": "stream",
          "name": "stdout",
          "text": [
            "0\n",
            "1\n",
            "2\n",
            "3\n",
            "4\n",
            "5\n",
            "6\n",
            "7\n",
            "8\n",
            "9\n"
          ]
        }
      ]
    },
    {
      "cell_type": "code",
      "source": [
        "for i in range(1,20,2):\n",
        "  print(i)"
      ],
      "metadata": {
        "colab": {
          "base_uri": "https://localhost:8080/"
        },
        "id": "QLOTRNyTZWWP",
        "outputId": "057c2cf9-d1de-4938-bb37-16db936cc465"
      },
      "execution_count": 4,
      "outputs": [
        {
          "output_type": "stream",
          "name": "stdout",
          "text": [
            "1\n",
            "3\n",
            "5\n",
            "7\n",
            "9\n",
            "11\n",
            "13\n",
            "15\n",
            "17\n",
            "19\n"
          ]
        }
      ]
    },
    {
      "cell_type": "code",
      "source": [
        "lst = [\"satish\",\"arinu\",\"murali\",\"naveen\"]\n",
        "for index in range(len(lst)):\n",
        "  print(lst[index])"
      ],
      "metadata": {
        "colab": {
          "base_uri": "https://localhost:8080/"
        },
        "id": "6rgd7rCgZjd5",
        "outputId": "b45f0bde-ecae-4764-ddf6-fffe15c1c1c5"
      },
      "execution_count": 6,
      "outputs": [
        {
          "output_type": "stream",
          "name": "stdout",
          "text": [
            "satish\n",
            "arinu\n",
            "murali\n",
            "naveen\n"
          ]
        }
      ]
    },
    {
      "cell_type": "code",
      "source": [
        "lst = [\"satish\",\"arinu\",\"murali\",\"naveen\"]\n",
        "for ele in lst:\n",
        "  print(ele)"
      ],
      "metadata": {
        "colab": {
          "base_uri": "https://localhost:8080/"
        },
        "id": "e5QefipHaZhR",
        "outputId": "55df3516-7861-4649-afe5-f7cf832959e0"
      },
      "execution_count": 7,
      "outputs": [
        {
          "output_type": "stream",
          "name": "stdout",
          "text": [
            "satish\n",
            "arinu\n",
            "murali\n",
            "naveen\n"
          ]
        }
      ]
    },
    {
      "cell_type": "code",
      "source": [
        "numbers = [1,2,3]\n",
        "\n",
        "for item in numbers:\n",
        "  print(item)\n",
        "\n",
        "else:\n",
        "  print(\"no item left\")"
      ],
      "metadata": {
        "colab": {
          "base_uri": "https://localhost:8080/"
        },
        "id": "ksjsru0yagdG",
        "outputId": "7cb2f806-03be-4d23-9aa5-282b885c4263"
      },
      "execution_count": 8,
      "outputs": [
        {
          "output_type": "stream",
          "name": "stdout",
          "text": [
            "1\n",
            "2\n",
            "3\n",
            "no item left\n"
          ]
        }
      ]
    },
    {
      "cell_type": "code",
      "source": [
        "# print prime numbers\n",
        "index1 = 20\n",
        "index2 = 50\n",
        "print(\"Prime numbers between {0} and {1} are :\".format(index1,index2))\n",
        "\n",
        "for num in range(index1, index2+1):\n",
        "  if num>1:\n",
        "      isDivisible = False\n",
        "      for index in range(2,num):\n",
        "          if num % index == 0:\n",
        "              isDivisible = True\n",
        "      if not isDivisible:\n",
        "          print(num)"
      ],
      "metadata": {
        "colab": {
          "base_uri": "https://localhost:8080/"
        },
        "id": "xnWKe4--azoN",
        "outputId": "4e714478-7cd4-4aa8-c078-ba3749846aff"
      },
      "execution_count": 24,
      "outputs": [
        {
          "output_type": "stream",
          "name": "stdout",
          "text": [
            "Prime numbers between 20 and 50 are :\n",
            "23\n",
            "29\n",
            "31\n",
            "37\n",
            "41\n",
            "43\n",
            "47\n"
          ]
        }
      ]
    }
  ]
}